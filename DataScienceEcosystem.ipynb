{
 "cells": [
  {
   "cell_type": "markdown",
   "id": "6bee7662-2da3-434e-aa73-c97a8da33db5",
   "metadata": {},
   "source": [
    "# Data Ssicence Tools and Ecosystem"
   ]
  },
  {
   "cell_type": "markdown",
   "id": "a110b78d-34a3-45c5-8e61-2de86f29c4a4",
   "metadata": {},
   "source": [
    "### In this notebook. Data Science Tools and Ecosystem are summarized"
   ]
  },
  {
   "cell_type": "markdown",
   "id": "c85ed70f-81cd-4199-b366-b73ed5129ece",
   "metadata": {},
   "source": [
    "### *Objectives*\n",
    "- List popular languages for Data Scientists\n",
    "- List popular libraries used by Data Scientists\n",
    "- Do some arithmetic expressions in Python\n",
    "- Do some arithmetic expressions and use ggplot libraries in R\n",
    "- Create a repositories in GitHub"
   ]
  },
  {
   "cell_type": "markdown",
   "id": "8651ae7b-3702-4d5f-84b5-b5bcc31abf48",
   "metadata": {},
   "source": [
    "#### Some of the popular languages that Data Scientists use are:\n",
    "1. Python\n",
    "2. R\n",
    "3. SQL\n",
    "4. Java\n",
    "5. Julia"
   ]
  },
  {
   "cell_type": "markdown",
   "id": "07f14054-3911-48e1-8503-3e921c8e782c",
   "metadata": {},
   "source": [
    "#### Some of the commonly used libraries used by Data Scientists include:\n",
    "1. TensorFlow\n",
    "2. NumPy\n",
    "3. Pandas\n",
    "4. ggplot\n",
    "5. Dplyr"
   ]
  },
  {
   "cell_type": "markdown",
   "id": "9ca4eae0-dfab-49e3-9158-e2783e57f434",
   "metadata": {},
   "source": [
    "| Data Science Tools |\n",
    "| :----------------: |\n",
    "| Jupyter Notebook |\n",
    "| Rstudio |\n",
    "| Github |"
   ]
  },
  {
   "cell_type": "markdown",
   "id": "380ba65d-5b70-4fc6-a554-f71f5d9407e5",
   "metadata": {},
   "source": [
    "### Below are a few examples of evaluating arithmetic expressions in Python"
   ]
  },
  {
   "cell_type": "code",
   "execution_count": 4,
   "id": "9ab9ae67-63d4-456c-931c-192abc48de3c",
   "metadata": {},
   "outputs": [
    {
     "data": {
      "text/plain": [
       "17"
      ]
     },
     "execution_count": 4,
     "metadata": {},
     "output_type": "execute_result"
    }
   ],
   "source": [
    "# This a simple arithmetic expression to multiply then add integers\n",
    "(3*4)+5"
   ]
  },
  {
   "cell_type": "code",
   "execution_count": 6,
   "id": "b4af4d8e-eb70-47f4-b718-7cc5f30d6c12",
   "metadata": {},
   "outputs": [
    {
     "data": {
      "text/plain": [
       "3.3333333333333335"
      ]
     },
     "execution_count": 6,
     "metadata": {},
     "output_type": "execute_result"
    }
   ],
   "source": [
    "# This will convert 200 minutos to hours by dividing by 60\n",
    "200/60"
   ]
  },
  {
   "cell_type": "markdown",
   "id": "f9589cb5-a63a-4650-8a52-4feaba013d7a",
   "metadata": {},
   "source": [
    "## Author \n",
    " Yosef Lancry"
   ]
  }
 ],
 "metadata": {
  "kernelspec": {
   "display_name": "Python 3 (ipykernel)",
   "language": "python",
   "name": "python3"
  },
  "language_info": {
   "codemirror_mode": {
    "name": "ipython",
    "version": 3
   },
   "file_extension": ".py",
   "mimetype": "text/x-python",
   "name": "python",
   "nbconvert_exporter": "python",
   "pygments_lexer": "ipython3",
   "version": "3.12.4"
  }
 },
 "nbformat": 4,
 "nbformat_minor": 5
}
